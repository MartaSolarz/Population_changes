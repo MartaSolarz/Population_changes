{
 "cells": [
  {
   "cell_type": "markdown",
   "source": [
    "# Informatics, Systems and Programming - project\n",
    "\n",
    "Visualization of population changes in European Union countries on an interactive map in the years 1960-2050."
   ],
   "metadata": {
    "collapsed": false
   },
   "id": "c1f76a0932dd97d2"
  },
  {
   "cell_type": "code",
   "execution_count": 1,
   "outputs": [],
   "source": [
    "import pandas as pd\n",
    "import json\n",
    "\n",
    "from ipywidgets import interact\n",
    "from preprocess import preprocess_data, update_properties_in_geojson\n",
    "from create_map import create_population_map"
   ],
   "metadata": {
    "collapsed": false,
    "ExecuteTime": {
     "end_time": "2023-12-02T19:45:16.035965Z",
     "start_time": "2023-12-02T19:45:15.458512Z"
    }
   },
   "id": "45acdfd4c1c5c234"
  },
  {
   "cell_type": "code",
   "execution_count": 2,
   "outputs": [],
   "source": [
    "DATA_POPULATIONS = './data/data.csv'\n",
    "WORLD_MAP = './data/world_borders.json'\n",
    "\n",
    "selected_countries = ['AUT', 'BEL', 'BGR', 'CYP', 'CZE', 'DEU', 'DNK', 'ESP', 'EST', 'FIN', 'FRA', 'GRC', 'HRV', 'HUN', 'IRL', 'ITA', 'LTU', 'LUX', 'LVA', 'MLT', 'NLD', 'POL', 'PRT', 'ROU', 'SVK', 'SVN', 'SWE']"
   ],
   "metadata": {
    "collapsed": false,
    "ExecuteTime": {
     "end_time": "2023-12-02T19:45:16.644426Z",
     "start_time": "2023-12-02T19:45:16.641345Z"
    }
   },
   "id": "d12fe5de18c4e76a"
  },
  {
   "cell_type": "code",
   "execution_count": 3,
   "outputs": [],
   "source": [
    "df = pd.read_csv(DATA_POPULATIONS, sep=',', encoding='utf-8', decimal='.', na_values='..')\n",
    "\n",
    "with open(WORLD_MAP, 'r', encoding='utf-8') as file:\n",
    "    world_geojson = json.load(file)"
   ],
   "metadata": {
    "collapsed": false,
    "ExecuteTime": {
     "end_time": "2023-12-02T19:45:18.221280Z",
     "start_time": "2023-12-02T19:45:17.389429Z"
    }
   },
   "id": "88dd0ea1be43e38f"
  },
  {
   "cell_type": "code",
   "execution_count": 4,
   "id": "initial_id",
   "metadata": {
    "collapsed": true,
    "ExecuteTime": {
     "end_time": "2023-12-02T19:45:18.400536Z",
     "start_time": "2023-12-02T19:45:18.224699Z"
    }
   },
   "outputs": [],
   "source": [
    "df_preprocessed = preprocess_data(df, selected_countries)\n",
    "\n",
    "world_geojson_preprocessed = update_properties_in_geojson(world_geojson, df_preprocessed, selected_countries)"
   ]
  },
  {
   "cell_type": "code",
   "execution_count": null,
   "outputs": [],
   "source": [
    "interact(lambda year: create_population_map(year, df_preprocessed, world_geojson_preprocessed), year=(1960, 2050, 1));"
   ],
   "metadata": {
    "collapsed": false
   },
   "id": "ec203d03d47373aa"
  },
  {
   "cell_type": "code",
   "execution_count": null,
   "outputs": [],
   "source": [],
   "metadata": {
    "collapsed": false
   },
   "id": "6c301dcb335b1de1"
  }
 ],
 "metadata": {
  "kernelspec": {
   "display_name": "Python 3",
   "language": "python",
   "name": "python3"
  },
  "language_info": {
   "codemirror_mode": {
    "name": "ipython",
    "version": 2
   },
   "file_extension": ".py",
   "mimetype": "text/x-python",
   "name": "python",
   "nbconvert_exporter": "python",
   "pygments_lexer": "ipython2",
   "version": "2.7.6"
  }
 },
 "nbformat": 4,
 "nbformat_minor": 5
}
