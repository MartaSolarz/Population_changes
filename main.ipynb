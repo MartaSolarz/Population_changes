{
 "cells": [
  {
   "cell_type": "markdown",
   "source": [
    "# Informatics, Systems and Programming - project\n",
    "\n",
    "Visualization of population changes in European Union countries on an interactive map in the years 1960-2050."
   ],
   "metadata": {
    "collapsed": false
   },
   "id": "c1f76a0932dd97d2"
  },
  {
   "cell_type": "code",
   "execution_count": 6,
   "outputs": [],
   "source": [
    "import pandas as pd\n",
    "import json\n",
    "\n",
    "from ipywidgets import interact\n",
    "\n",
    "from preprocess import preprocess_data, update_properties_in_geojson\n",
    "from create_map import create_population_map"
   ],
   "metadata": {
    "collapsed": false,
    "ExecuteTime": {
     "end_time": "2023-12-07T17:27:32.293163Z",
     "start_time": "2023-12-07T17:27:32.288515Z"
    }
   },
   "id": "45acdfd4c1c5c234"
  },
  {
   "cell_type": "code",
   "execution_count": 7,
   "outputs": [],
   "source": [
    "DATA_POPULATIONS = './data/data.csv'\n",
    "WORLD_MAP = './data/world_borders.json'\n",
    "\n",
    "SELECTED_COUNTRIES = ['AUT', 'BEL', 'BGR', 'CYP', 'CZE', 'DEU', 'DNK', 'ESP', 'EST', 'FIN', 'FRA', 'GRC', 'HRV', 'HUN', 'IRL', 'ITA', 'LTU', 'LUX', 'LVA', 'MLT', 'NLD', 'POL', 'PRT', 'ROU', 'SVK', 'SVN', 'SWE']"
   ],
   "metadata": {
    "collapsed": false,
    "ExecuteTime": {
     "end_time": "2023-12-07T17:27:32.297681Z",
     "start_time": "2023-12-07T17:27:32.293081Z"
    }
   },
   "id": "d12fe5de18c4e76a"
  },
  {
   "cell_type": "code",
   "execution_count": 8,
   "outputs": [],
   "source": [
    "df = pd.read_csv(DATA_POPULATIONS, sep=',', encoding='utf-8', decimal='.', na_values='..')\n",
    "\n",
    "with open(WORLD_MAP, 'r', encoding='utf-8') as file:\n",
    "    world_geojson = json.load(file)"
   ],
   "metadata": {
    "collapsed": false,
    "ExecuteTime": {
     "end_time": "2023-12-07T17:27:33.054569Z",
     "start_time": "2023-12-07T17:27:32.296903Z"
    }
   },
   "id": "88dd0ea1be43e38f"
  },
  {
   "cell_type": "code",
   "execution_count": 9,
   "id": "initial_id",
   "metadata": {
    "collapsed": true,
    "ExecuteTime": {
     "end_time": "2023-12-07T17:27:33.222609Z",
     "start_time": "2023-12-07T17:27:33.082343Z"
    }
   },
   "outputs": [],
   "source": [
    "df_preprocessed = preprocess_data(df, SELECTED_COUNTRIES)\n",
    "\n",
    "world_geojson_preprocessed = update_properties_in_geojson(world_geojson, df_preprocessed, SELECTED_COUNTRIES)"
   ]
  },
  {
   "cell_type": "code",
   "execution_count": 10,
   "outputs": [
    {
     "data": {
      "text/plain": "interactive(children=(IntSlider(value=2005, description='year', max=2050, min=1960), Output()), _dom_classes=(…",
      "application/vnd.jupyter.widget-view+json": {
       "version_major": 2,
       "version_minor": 0,
       "model_id": "2f171b7c336d46979800f0cfdf33d1e0"
      }
     },
     "metadata": {},
     "output_type": "display_data"
    }
   ],
   "source": [
    "interact(lambda year: create_population_map(year, df_preprocessed, world_geojson_preprocessed), year=(1960, 2050, 1));"
   ],
   "metadata": {
    "collapsed": false,
    "ExecuteTime": {
     "end_time": "2023-12-07T17:27:33.966249Z",
     "start_time": "2023-12-07T17:27:33.226948Z"
    }
   },
   "id": "ec203d03d47373aa"
  },
  {
   "cell_type": "code",
   "execution_count": 10,
   "outputs": [],
   "source": [],
   "metadata": {
    "collapsed": false,
    "ExecuteTime": {
     "end_time": "2023-12-07T17:27:33.968651Z",
     "start_time": "2023-12-07T17:27:33.960945Z"
    }
   },
   "id": "6c301dcb335b1de1"
  }
 ],
 "metadata": {
  "kernelspec": {
   "display_name": "Python 3",
   "language": "python",
   "name": "python3"
  },
  "language_info": {
   "codemirror_mode": {
    "name": "ipython",
    "version": 2
   },
   "file_extension": ".py",
   "mimetype": "text/x-python",
   "name": "python",
   "nbconvert_exporter": "python",
   "pygments_lexer": "ipython2",
   "version": "2.7.6"
  }
 },
 "nbformat": 4,
 "nbformat_minor": 5
}
